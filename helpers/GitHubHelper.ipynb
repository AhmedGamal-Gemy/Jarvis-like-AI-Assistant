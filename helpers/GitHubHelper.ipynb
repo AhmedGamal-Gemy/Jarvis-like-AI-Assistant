{
  "nbformat": 4,
  "nbformat_minor": 0,
  "metadata": {
    "colab": {
      "provenance": [],
      "authorship_tag": "ABX9TyNYOBvIT68HWYVJHA9eblNW",
      "include_colab_link": true
    },
    "kernelspec": {
      "name": "python3",
      "display_name": "Python 3"
    },
    "language_info": {
      "name": "python"
    }
  },
  "cells": [
    {
      "cell_type": "markdown",
      "metadata": {
        "id": "view-in-github",
        "colab_type": "text"
      },
      "source": [
        "<a href=\"https://colab.research.google.com/github/AhmedGamal-Gemy/Jarvis-like-AI-Assistant/blob/main/helpers/GitHubHelper.ipynb\" target=\"_parent\"><img src=\"https://colab.research.google.com/assets/colab-badge.svg\" alt=\"Open In Colab\"/></a>"
      ]
    },
    {
      "cell_type": "code",
      "execution_count": null,
      "metadata": {
        "id": "xUAJz1SxEQi2"
      },
      "outputs": [],
      "source": [
        "# @title GitHub Helper Functions\n",
        "from google.colab import userdata\n",
        "\n",
        "class GitHubHelper:\n",
        "    def __init__(self, username):\n",
        "        \"\"\"Initialize GitHub helper with user's credentials\"\"\"\n",
        "        self.token = userdata.get('GITHUB_TOKEN')\n",
        "        self.username = username\n",
        "        self.repo = \"jarvis-assistant\"  # Change this to your repo name\n",
        "\n",
        "    def setup(self):\n",
        "        \"\"\"Setup the repository and git configuration\"\"\"\n",
        "        try:\n",
        "            # Clone repository\n",
        "            !git clone https://{self.token}@github.com/{self.username}/{self.repo}.git\n",
        "            %cd {self.repo}\n",
        "\n",
        "            print(\"✅ Repository cloned successfully!\")\n",
        "            return True\n",
        "        except Exception as e:\n",
        "            print(f\"❌ Setup failed: {str(e)}\")\n",
        "            return False\n",
        "\n",
        "    def get_latest(self):\n",
        "        \"\"\"Pull latest changes from the repository\"\"\"\n",
        "        try:\n",
        "            !git pull origin main\n",
        "            print(\"✅ Latest changes retrieved\")\n",
        "        except Exception as e:\n",
        "            print(f\"❌ Failed to get latest changes: {str(e)}\")\n",
        "\n",
        "    def save_changes(self, message):\n",
        "        \"\"\"Save and push changes to GitHub\"\"\"\n",
        "        try:\n",
        "            !git add .\n",
        "            !git commit -m \"{message}\"\n",
        "            !git push origin main\n",
        "            print(\"✅ Changes saved to GitHub\")\n",
        "        except Exception as e:\n",
        "            print(f\"❌ Failed to save changes: {str(e)}\")\n",
        "\n",
        "    def check_status(self):\n",
        "        \"\"\"Check git status\"\"\"\n",
        "        !git status\n",
        "\n",
        "    def troubleshoot(self):\n",
        "        \"\"\"Basic troubleshooting steps\"\"\"\n",
        "        print(\"1. Checking Git configuration...\")\n",
        "        !git config --list\n",
        "\n",
        "        print(\"\\n2. Checking repository status...\")\n",
        "        !git status\n",
        "\n",
        "        print(\"\\n3. Checking remote connection...\")\n",
        "        !git remote -v\n",
        "\n",
        "        print(\"\\n4. Checking authentication...\")\n",
        "        try:\n",
        "            !git pull\n",
        "            print(\"✅ Authentication working\")\n",
        "        except:\n",
        "            print(\"❌ Authentication failed - check your token\")\n",
        "\n",
        "# Helper function to initialize the class\n",
        "def init_github_helper(username):\n",
        "    \"\"\"Create and return a GitHubHelper instance\"\"\"\n",
        "    helper = GitHubHelper(username)\n",
        "    return helper\n",
        "\n",
        "# Example usage (commented out)\n",
        "\"\"\"\n",
        "# How to use this helper:\n",
        "github = init_github_helper(\"your-github-username\")\n",
        "github.setup()\n",
        "github.get_latest()\n",
        "\n",
        "# Work on your code...\n",
        "\n",
        "github.save_changes(\"Describe your changes here\")\n",
        "\"\"\""
      ]
    }
  ]
}