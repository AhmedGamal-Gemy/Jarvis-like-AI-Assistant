from google.colab import userdata

class GitHubHelper:
    def __init__(self, username):
        """Initialize GitHub helper with user's credentials"""
        self.token = userdata.get('GITHUB_TOKEN')
        self.username = username
        self.repo = "jarvis-assistant"  # Change this to your repo name
    
    def setup(self):
        """Setup the repository and git configuration"""
        try:
            # Clone repository
            !git clone https://{self.token}@github.com/{self.username}/{self.repo}.git
            %cd {self.repo}
            
            print("✅ Repository cloned successfully!")
            return True
        except Exception as e:
            print(f"❌ Setup failed: {str(e)}")
            return False
    
    def get_latest(self):
        """Pull latest changes from the repository"""
        try:
            !git pull origin main
            print("✅ Latest changes retrieved")
        except Exception as e:
            print(f"❌ Failed to get latest changes: {str(e)}")
    
    def save_changes(self, message):
        """Save and push changes to GitHub"""
        try:
            !git add .
            !git commit -m "{message}"
            !git push origin main
            print("✅ Changes saved to GitHub")
        except Exception as e:
            print(f"❌ Failed to save changes: {str(e)}")
    
    def check_status(self):
        """Check git status"""
        !git status
    
    def troubleshoot(self):
        """Basic troubleshooting steps"""
        print("1. Checking Git configuration...")
        !git config --list
        
        print("\n2. Checking repository status...")
        !git status
        
        print("\n3. Checking remote connection...")
        !git remote -v
        
        print("\n4. Checking authentication...")
        try:
            !git pull
            print("✅ Authentication working")
        except:
            print("❌ Authentication failed - check your token")

# Helper function to initialize the class
def init_github_helper(username):
    """Create and return a GitHubHelper instance"""
    helper = GitHubHelper(username)
    return helper






# Example usage (commented out)
"""
# How to use this helper:
github = init_github_helper("your-github-username")
github.setup()
github.get_latest()

# Work on your code...

github.save_changes("Describe your changes here")
"""
